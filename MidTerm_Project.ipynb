{
 "cells": [
  {
   "cell_type": "markdown",
   "id": "ce727808-1e61-4cc0-9faf-5d29d1507102",
   "metadata": {},
   "source": [
    "## Using the book review data attached to this project, perform the following:"
   ]
  },
  {
   "cell_type": "markdown",
   "id": "31919863-2061-4c03-8b74-7847699d7fcf",
   "metadata": {},
   "source": [
    "\n",
    "Choose appropriate data processing steps and implement them. Please note that the objective is to be able to answer the questions below accurately, decide on your pre-processing step with this in mind.\n",
    "    \n",
    "- Plot the distribution of genres\n",
    "- Plot the distribution of ratings\n",
    "- Group the dataset by users, calculate the average of rating for each group and plot the average ratings (x-axis: ratings from 1-5, y-axis: count of users with that average rating)\n",
    "- How many languages are there in the dataset? A plot of number of books per language is required here. Based on the plot, are there languages that you want to discard from your dataset?\n",
    "- Use the different datasets accompanying the ratings dataset to determine what factors (publication year, ratings count, number of books by the author etc.) have an influence on a book’s rating?\n",
    "- Is there any difference between the average rating of the users who rate more frequently than those who don’t?\n",
    "- Based on the data, do you agree or disagree with the following hypothesis: “if a book has many volumes it is more likely that is higher rating”. Whether your answer is a yes or no explain why.\n",
    "\n",
    "Note the following regarding presentation and grading:\n",
    "\n",
    "    presentation schedules and method will be announced later\n",
    "    powerpoint decks are not needed, but if it helps you to organize your presentation better I have no problem with it. However, I will focus on your code\n",
    "    Please note that, although the mid-term project is group based, each team member is required to submit the group's code independently. This causes some redundancy but makes grading much easier and accurate"
   ]
  },
  {
   "cell_type": "markdown",
   "id": "a61c7fdd-00b9-47ed-bf3a-95aaefbeffe7",
   "metadata": {},
   "source": [
    "### Plot the distribution of genres"
   ]
  },
  {
   "cell_type": "code",
   "execution_count": 75,
   "id": "bc246c48-6313-4937-85f8-ea61ffc07c7f",
   "metadata": {},
   "outputs": [],
   "source": [
    "import pandas as pd\n",
    "import os\n",
    "import glob\n",
    " \n",
    "# use glob to get all the csv files in the folder\n",
    "dict = {}\n",
    "path = r\"C:\\Users\\anton\\OneDrive\\Documentos\\Georgian\\BDAT1007_Social_Data_Mining\\MidTerm\"\n",
    "csv_files = glob.glob(os.path.join(path, \"*.csv\"))\n",
    "\n",
    "for f in csv_files:\n",
    "    #Split the pat and get only the filename without extension\n",
    "    file_name = os.path.basename(f)\n",
    "    file = os.path.splitext(file_name)\n",
    "    # read the csv file and store in the dictionary\n",
    "    dict[file[0]] = pd.read_csv(f)"
   ]
  },
  {
   "cell_type": "code",
   "execution_count": 76,
   "id": "bce9d0c0-75fa-4e7c-a5e0-67fdb12098aa",
   "metadata": {},
   "outputs": [],
   "source": [
    "#Saving all the files in df\n",
    "book_tags = pd.DataFrame.from_dict(dict.get(\"book_tags\"))\n",
    "books = pd.DataFrame.from_dict(dict.get(\"books\"))\n",
    "ratings = pd.DataFrame.from_dict(dict.get(\"ratings\"))\n",
    "tags = pd.DataFrame.from_dict(dict.get(\"tags\"))\n",
    "to_read = pd.DataFrame.from_dict(dict.get(\"to_read\"))"
   ]
  },
  {
   "cell_type": "code",
   "execution_count": 3,
   "id": "c72d4bda-f013-402f-806e-ff2271461914",
   "metadata": {},
   "outputs": [
    {
     "name": "stdout",
     "output_type": "stream",
     "text": [
      "Total categories in the genre:\n",
      " -               1\n",
      "oz              1\n",
      "p-d-f           1\n",
      "p-d-eastman     1\n",
      "p-cornwell      1\n",
      "               ..\n",
      "farm-life       1\n",
      "farm-animals    1\n",
      "farm            1\n",
      "farley-mowat    1\n",
      "ｆａｖｏｕｒｉｔｅｓ      1\n",
      "Name: genre, Length: 34252, dtype: int64 \n",
      "\n"
     ]
    }
   ],
   "source": [
    "#check the tags that we have\n",
    "\n",
    "tags[\"genre\"] = tags[(\"tag_name\").split()]\n",
    "print(\"Total categories in the genre:\\n\", tags[\"genre\"].value_counts(),\"\\n\")"
   ]
  },
  {
   "cell_type": "code",
   "execution_count": 51,
   "id": "a5a039b5-4428-45ef-ba50-1f12dc344a5b",
   "metadata": {},
   "outputs": [
    {
     "data": {
      "text/plain": [
       "(34252, 16450)"
      ]
     },
     "execution_count": 51,
     "metadata": {},
     "output_type": "execute_result"
    }
   ],
   "source": [
    "from sklearn import *\n",
    "# TF-IDF Feature Generation\n",
    "from sklearn.feature_extraction.text import TfidfVectorizer\n",
    "from nltk.tokenize import RegexpTokenizer\n",
    "\n",
    "# Initialize regex tokenizer\n",
    "tokenizer = RegexpTokenizer(r'\\w+')\n",
    "\n",
    "# # Vectorize document using TF-IDF\n",
    "tf_idf_vect = TfidfVectorizer(lowercase=True,\n",
    "                        stop_words='english',\n",
    "                        ngram_range = (1,1),\n",
    "                        tokenizer = tokenizer.tokenize)\n",
    "\n",
    "# Fit and Transfrom Text Data\n",
    "X_train_counts = tf_idf_vect.fit_transform(tags[\"tag_name\"])\n",
    "\n",
    "# Check Shape of Count Vector\n",
    "X_train_counts.shape"
   ]
  },
  {
   "cell_type": "code",
   "execution_count": 53,
   "id": "0c945979-3e9d-473f-b20c-78a70daa173a",
   "metadata": {},
   "outputs": [],
   "source": [
    "# Import KMeans Model\n",
    "from sklearn.cluster import KMeans\n",
    "\n",
    "# Create Kmeans object and fit it to the data\n",
    "# we couldn't include our own groups so we let the algorithm to group in 20 categories\n",
    "kmeans = KMeans(n_clusters=20).fit(X_train_counts)\n",
    "\n",
    "# Get the labels using KMeans\n",
    "pred_labels = kmeans.labels_"
   ]
  },
  {
   "cell_type": "code",
   "execution_count": null,
   "id": "54c70df7-c802-4d2d-b9d0-9dc4a9011d6b",
   "metadata": {},
   "outputs": [],
   "source": [
    "from sklearn import metrics\n",
    "# Compute DBI score\n",
    "dbi = metrics.davies_bouldin_score(X_train_counts.toarray(), pred_labels)\n",
    "\n",
    "# Compute Silhoutte Score\n",
    "ss = metrics.silhouette_score(X_train_counts.toarray(), pred_labels , metric='euclidean')\n",
    "\n",
    "# Print the DBI and Silhoutte Scores\n",
    "print(\"DBI Score: \", dbi, \"\\nSilhoutte Score: \", ss)"
   ]
  },
  {
   "cell_type": "code",
   "execution_count": 54,
   "id": "aea8a7d8-2d30-432a-be61-8f0d6540ffee",
   "metadata": {},
   "outputs": [
    {
     "data": {
      "text/html": [
       "<div>\n",
       "<style scoped>\n",
       "    .dataframe tbody tr th:only-of-type {\n",
       "        vertical-align: middle;\n",
       "    }\n",
       "\n",
       "    .dataframe tbody tr th {\n",
       "        vertical-align: top;\n",
       "    }\n",
       "\n",
       "    .dataframe thead th {\n",
       "        text-align: right;\n",
       "    }\n",
       "</style>\n",
       "<table border=\"1\" class=\"dataframe\">\n",
       "  <thead>\n",
       "    <tr style=\"text-align: right;\">\n",
       "      <th></th>\n",
       "      <th>tag_id</th>\n",
       "      <th>tag_name</th>\n",
       "      <th>genre</th>\n",
       "      <th>group</th>\n",
       "    </tr>\n",
       "  </thead>\n",
       "  <tbody>\n",
       "    <tr>\n",
       "      <th>691</th>\n",
       "      <td>691</td>\n",
       "      <td>2012-debut-author-challenge</td>\n",
       "      <td>2012-debut-author-challenge</td>\n",
       "      <td>1</td>\n",
       "    </tr>\n",
       "    <tr>\n",
       "      <th>714</th>\n",
       "      <td>714</td>\n",
       "      <td>2013-debut-author-challenge</td>\n",
       "      <td>2013-debut-author-challenge</td>\n",
       "      <td>1</td>\n",
       "    </tr>\n",
       "    <tr>\n",
       "      <th>2221</th>\n",
       "      <td>2221</td>\n",
       "      <td>amazing-first-work-by-author</td>\n",
       "      <td>amazing-first-work-by-author</td>\n",
       "      <td>1</td>\n",
       "    </tr>\n",
       "    <tr>\n",
       "      <th>2281</th>\n",
       "      <td>2281</td>\n",
       "      <td>american-author</td>\n",
       "      <td>american-author</td>\n",
       "      <td>1</td>\n",
       "    </tr>\n",
       "    <tr>\n",
       "      <th>3439</th>\n",
       "      <td>3439</td>\n",
       "      <td>aussie-author</td>\n",
       "      <td>aussie-author</td>\n",
       "      <td>1</td>\n",
       "    </tr>\n",
       "    <tr>\n",
       "      <th>...</th>\n",
       "      <td>...</td>\n",
       "      <td>...</td>\n",
       "      <td>...</td>\n",
       "      <td>...</td>\n",
       "    </tr>\n",
       "    <tr>\n",
       "      <th>30604</th>\n",
       "      <td>30604</td>\n",
       "      <td>to-read-author-a-e</td>\n",
       "      <td>to-read-author-a-e</td>\n",
       "      <td>1</td>\n",
       "    </tr>\n",
       "    <tr>\n",
       "      <th>31665</th>\n",
       "      <td>31665</td>\n",
       "      <td>utah-author</td>\n",
       "      <td>utah-author</td>\n",
       "      <td>1</td>\n",
       "    </tr>\n",
       "    <tr>\n",
       "      <th>32679</th>\n",
       "      <td>32679</td>\n",
       "      <td>woman-author</td>\n",
       "      <td>woman-author</td>\n",
       "      <td>1</td>\n",
       "    </tr>\n",
       "    <tr>\n",
       "      <th>33140</th>\n",
       "      <td>33140</td>\n",
       "      <td>young-author-recommendations</td>\n",
       "      <td>young-author-recommendations</td>\n",
       "      <td>1</td>\n",
       "    </tr>\n",
       "    <tr>\n",
       "      <th>33198</th>\n",
       "      <td>33198</td>\n",
       "      <td>z-author-study-edith-wharton</td>\n",
       "      <td>z-author-study-edith-wharton</td>\n",
       "      <td>1</td>\n",
       "    </tr>\n",
       "  </tbody>\n",
       "</table>\n",
       "<p>134 rows × 4 columns</p>\n",
       "</div>"
      ],
      "text/plain": [
       "       tag_id                      tag_name                         genre  \\\n",
       "691       691   2012-debut-author-challenge   2012-debut-author-challenge   \n",
       "714       714   2013-debut-author-challenge   2013-debut-author-challenge   \n",
       "2221     2221  amazing-first-work-by-author  amazing-first-work-by-author   \n",
       "2281     2281               american-author               american-author   \n",
       "3439     3439                 aussie-author                 aussie-author   \n",
       "...       ...                           ...                           ...   \n",
       "30604   30604            to-read-author-a-e            to-read-author-a-e   \n",
       "31665   31665                   utah-author                   utah-author   \n",
       "32679   32679                  woman-author                  woman-author   \n",
       "33140   33140  young-author-recommendations  young-author-recommendations   \n",
       "33198   33198  z-author-study-edith-wharton  z-author-study-edith-wharton   \n",
       "\n",
       "       group  \n",
       "691        1  \n",
       "714        1  \n",
       "2221       1  \n",
       "2281       1  \n",
       "3439       1  \n",
       "...      ...  \n",
       "30604      1  \n",
       "31665      1  \n",
       "32679      1  \n",
       "33140      1  \n",
       "33198      1  \n",
       "\n",
       "[134 rows x 4 columns]"
      ]
     },
     "execution_count": 54,
     "metadata": {},
     "output_type": "execute_result"
    }
   ],
   "source": [
    "#Now we checked the groups formed\n",
    "\n",
    "tags[\"group\"] = pred_labels\n",
    "#dataframe[dataframe['Percentage'] > 70]\n",
    "tags[tags[\"group\"] ==1]\n",
    "#the result categories are:\n",
    "#variety, manga, fiction, women, read books, arab, books, fantasy, middle, kids, children, read, book, james, hyphen, 2016, romance, Stephen King, -s, related"
   ]
  },
  {
   "cell_type": "code",
   "execution_count": 77,
   "id": "6e4f3113-3c0e-4109-bd03-56949cc05b8c",
   "metadata": {},
   "outputs": [
    {
     "name": "stderr",
     "output_type": "stream",
     "text": [
      "C:\\Users\\anton\\AppData\\Local\\Temp/ipykernel_4084/132396117.py:5: FutureWarning: The default value of regex will change from True to False in a future version.\n",
      "  tags[\"tag_name\"] = tags[\"tag_name\"].str.replace(r'\\b\\w\\b', '').str.replace(r'\\s+', ' ')\n"
     ]
    },
    {
     "data": {
      "text/html": [
       "<div>\n",
       "<style scoped>\n",
       "    .dataframe tbody tr th:only-of-type {\n",
       "        vertical-align: middle;\n",
       "    }\n",
       "\n",
       "    .dataframe tbody tr th {\n",
       "        vertical-align: top;\n",
       "    }\n",
       "\n",
       "    .dataframe thead th {\n",
       "        text-align: right;\n",
       "    }\n",
       "</style>\n",
       "<table border=\"1\" class=\"dataframe\">\n",
       "  <thead>\n",
       "    <tr style=\"text-align: right;\">\n",
       "      <th></th>\n",
       "      <th>tag_id</th>\n",
       "      <th>tag_name</th>\n",
       "    </tr>\n",
       "  </thead>\n",
       "  <tbody>\n",
       "    <tr>\n",
       "      <th>0</th>\n",
       "      <td>0</td>\n",
       "      <td></td>\n",
       "    </tr>\n",
       "    <tr>\n",
       "      <th>1</th>\n",
       "      <td>1</td>\n",
       "      <td></td>\n",
       "    </tr>\n",
       "    <tr>\n",
       "      <th>2</th>\n",
       "      <td>2</td>\n",
       "      <td>10</td>\n",
       "    </tr>\n",
       "    <tr>\n",
       "      <th>3</th>\n",
       "      <td>3</td>\n",
       "      <td>12</td>\n",
       "    </tr>\n",
       "    <tr>\n",
       "      <th>4</th>\n",
       "      <td>4</td>\n",
       "      <td>122</td>\n",
       "    </tr>\n",
       "  </tbody>\n",
       "</table>\n",
       "</div>"
      ],
      "text/plain": [
       "   tag_id tag_name\n",
       "0       0         \n",
       "1       1         \n",
       "2       2      10 \n",
       "3       3      12 \n",
       "4       4     122 "
      ]
     },
     "execution_count": 77,
     "metadata": {},
     "output_type": "execute_result"
    }
   ],
   "source": [
    "#To improve thhe results we are going to remove the hyphen symbol in the tags df\n",
    "tags[\"tag_name\"] = tags[\"tag_name\"].str.replace('-', ' ')\n",
    "#removing alone characters to improve the results\n",
    "\n",
    "tags[\"tag_name\"] = tags[\"tag_name\"].str.replace(r'\\b\\w\\b', '').str.replace(r'\\s+', ' ')\n",
    "tags.head()"
   ]
  },
  {
   "cell_type": "markdown",
   "id": "4effb63c-42f8-42e3-8f18-963e9c4a1c55",
   "metadata": {},
   "source": [
    "### Now we re run the process with the tags fixed"
   ]
  },
  {
   "cell_type": "code",
   "execution_count": 78,
   "id": "7b47a4c0-8edc-43e5-9997-1dd8ad39f18e",
   "metadata": {},
   "outputs": [],
   "source": [
    "tokenizer = RegexpTokenizer(r'\\w+')\n",
    "\n",
    "# # Vectorize document using TF-IDF\n",
    "tf_idf_vect = TfidfVectorizer(lowercase=True,\n",
    "                        stop_words='english',\n",
    "                        ngram_range = (1,1),\n",
    "                        tokenizer = tokenizer.tokenize)\n",
    "\n",
    "# Fit and Transfrom Text Data\n",
    "X_train_counts = tf_idf_vect.fit_transform(tags[\"tag_name\"])\n",
    "\n",
    "# Check Shape of Count Vector\n",
    "X_train_counts.shape\n",
    "\n",
    "# Create Kmeans object and fit it to the training data \n",
    "kmeans = KMeans(n_clusters=20).fit(X_train_counts)\n",
    "\n",
    "# Get the labels using KMeans\n",
    "pred_labels = kmeans.labels_\n",
    "\n",
    "\n",
    "tags[\"group\"] = pred_labels"
   ]
  },
  {
   "cell_type": "code",
   "execution_count": 79,
   "id": "5265c20b-ca11-4638-b91f-c918ecaa8723",
   "metadata": {},
   "outputs": [
    {
     "data": {
      "text/html": [
       "<div>\n",
       "<style scoped>\n",
       "    .dataframe tbody tr th:only-of-type {\n",
       "        vertical-align: middle;\n",
       "    }\n",
       "\n",
       "    .dataframe tbody tr th {\n",
       "        vertical-align: top;\n",
       "    }\n",
       "\n",
       "    .dataframe thead th {\n",
       "        text-align: right;\n",
       "    }\n",
       "</style>\n",
       "<table border=\"1\" class=\"dataframe\">\n",
       "  <thead>\n",
       "    <tr style=\"text-align: right;\">\n",
       "      <th></th>\n",
       "      <th>id</th>\n",
       "      <th>book_id</th>\n",
       "      <th>best_book_id</th>\n",
       "      <th>work_id</th>\n",
       "      <th>books_count</th>\n",
       "      <th>isbn</th>\n",
       "      <th>isbn13</th>\n",
       "      <th>authors</th>\n",
       "      <th>original_publication_year</th>\n",
       "      <th>original_title</th>\n",
       "      <th>...</th>\n",
       "      <th>ratings_4</th>\n",
       "      <th>ratings_5</th>\n",
       "      <th>image_url</th>\n",
       "      <th>small_image_url</th>\n",
       "      <th>goodreads_book_id</th>\n",
       "      <th>tag_id</th>\n",
       "      <th>count</th>\n",
       "      <th>tag_name</th>\n",
       "      <th>group</th>\n",
       "      <th>genre</th>\n",
       "    </tr>\n",
       "  </thead>\n",
       "  <tbody>\n",
       "    <tr>\n",
       "      <th>0</th>\n",
       "      <td>1</td>\n",
       "      <td>2767052</td>\n",
       "      <td>2767052</td>\n",
       "      <td>2792775</td>\n",
       "      <td>272</td>\n",
       "      <td>439023483</td>\n",
       "      <td>9.780439e+12</td>\n",
       "      <td>Suzanne Collins</td>\n",
       "      <td>2008.0</td>\n",
       "      <td>The Hunger Games</td>\n",
       "      <td>...</td>\n",
       "      <td>1481305</td>\n",
       "      <td>2706317</td>\n",
       "      <td>https://images.gr-assets.com/books/1447303603m...</td>\n",
       "      <td>https://images.gr-assets.com/books/1447303603s...</td>\n",
       "      <td>2767052</td>\n",
       "      <td>11557</td>\n",
       "      <td>50755</td>\n",
       "      <td>favorites</td>\n",
       "      <td>1</td>\n",
       "      <td>romance</td>\n",
       "    </tr>\n",
       "    <tr>\n",
       "      <th>100</th>\n",
       "      <td>2</td>\n",
       "      <td>3</td>\n",
       "      <td>3</td>\n",
       "      <td>4640799</td>\n",
       "      <td>491</td>\n",
       "      <td>439554934</td>\n",
       "      <td>9.780440e+12</td>\n",
       "      <td>J.K. Rowling, Mary GrandPré</td>\n",
       "      <td>1997.0</td>\n",
       "      <td>Harry Potter and the Philosopher's Stone</td>\n",
       "      <td>...</td>\n",
       "      <td>1156318</td>\n",
       "      <td>3011543</td>\n",
       "      <td>https://images.gr-assets.com/books/1474154022m...</td>\n",
       "      <td>https://images.gr-assets.com/books/1474154022s...</td>\n",
       "      <td>3</td>\n",
       "      <td>30574</td>\n",
       "      <td>496107</td>\n",
       "      <td>to read</td>\n",
       "      <td>2</td>\n",
       "      <td>school</td>\n",
       "    </tr>\n",
       "    <tr>\n",
       "      <th>200</th>\n",
       "      <td>3</td>\n",
       "      <td>41865</td>\n",
       "      <td>41865</td>\n",
       "      <td>3212258</td>\n",
       "      <td>226</td>\n",
       "      <td>316015849</td>\n",
       "      <td>9.780316e+12</td>\n",
       "      <td>Stephenie Meyer</td>\n",
       "      <td>2005.0</td>\n",
       "      <td>Twilight</td>\n",
       "      <td>...</td>\n",
       "      <td>875073</td>\n",
       "      <td>1355439</td>\n",
       "      <td>https://images.gr-assets.com/books/1361039443m...</td>\n",
       "      <td>https://images.gr-assets.com/books/1361039443s...</td>\n",
       "      <td>41865</td>\n",
       "      <td>33114</td>\n",
       "      <td>16446</td>\n",
       "      <td>young adult</td>\n",
       "      <td>8</td>\n",
       "      <td>lit</td>\n",
       "    </tr>\n",
       "    <tr>\n",
       "      <th>300</th>\n",
       "      <td>4</td>\n",
       "      <td>2657</td>\n",
       "      <td>2657</td>\n",
       "      <td>3275794</td>\n",
       "      <td>487</td>\n",
       "      <td>61120081</td>\n",
       "      <td>9.780061e+12</td>\n",
       "      <td>Harper Lee</td>\n",
       "      <td>1960.0</td>\n",
       "      <td>To Kill a Mockingbird</td>\n",
       "      <td>...</td>\n",
       "      <td>1001952</td>\n",
       "      <td>1714267</td>\n",
       "      <td>https://images.gr-assets.com/books/1361975680m...</td>\n",
       "      <td>https://images.gr-assets.com/books/1361975680s...</td>\n",
       "      <td>2657</td>\n",
       "      <td>7457</td>\n",
       "      <td>31068</td>\n",
       "      <td>classics</td>\n",
       "      <td>1</td>\n",
       "      <td>romance</td>\n",
       "    </tr>\n",
       "    <tr>\n",
       "      <th>400</th>\n",
       "      <td>5</td>\n",
       "      <td>4671</td>\n",
       "      <td>4671</td>\n",
       "      <td>245494</td>\n",
       "      <td>1356</td>\n",
       "      <td>743273567</td>\n",
       "      <td>9.780743e+12</td>\n",
       "      <td>F. Scott Fitzgerald</td>\n",
       "      <td>1925.0</td>\n",
       "      <td>The Great Gatsby</td>\n",
       "      <td>...</td>\n",
       "      <td>936012</td>\n",
       "      <td>947718</td>\n",
       "      <td>https://images.gr-assets.com/books/1490528560m...</td>\n",
       "      <td>https://images.gr-assets.com/books/1490528560s...</td>\n",
       "      <td>4671</td>\n",
       "      <td>7457</td>\n",
       "      <td>32061</td>\n",
       "      <td>classics</td>\n",
       "      <td>1</td>\n",
       "      <td>romance</td>\n",
       "    </tr>\n",
       "  </tbody>\n",
       "</table>\n",
       "<p>5 rows × 29 columns</p>\n",
       "</div>"
      ],
      "text/plain": [
       "     id  book_id  best_book_id  work_id  books_count       isbn        isbn13  \\\n",
       "0     1  2767052       2767052  2792775          272  439023483  9.780439e+12   \n",
       "100   2        3             3  4640799          491  439554934  9.780440e+12   \n",
       "200   3    41865         41865  3212258          226  316015849  9.780316e+12   \n",
       "300   4     2657          2657  3275794          487   61120081  9.780061e+12   \n",
       "400   5     4671          4671   245494         1356  743273567  9.780743e+12   \n",
       "\n",
       "                         authors  original_publication_year  \\\n",
       "0                Suzanne Collins                     2008.0   \n",
       "100  J.K. Rowling, Mary GrandPré                     1997.0   \n",
       "200              Stephenie Meyer                     2005.0   \n",
       "300                   Harper Lee                     1960.0   \n",
       "400          F. Scott Fitzgerald                     1925.0   \n",
       "\n",
       "                               original_title  ... ratings_4 ratings_5  \\\n",
       "0                            The Hunger Games  ...   1481305   2706317   \n",
       "100  Harry Potter and the Philosopher's Stone  ...   1156318   3011543   \n",
       "200                                  Twilight  ...    875073   1355439   \n",
       "300                     To Kill a Mockingbird  ...   1001952   1714267   \n",
       "400                          The Great Gatsby  ...    936012    947718   \n",
       "\n",
       "                                             image_url  \\\n",
       "0    https://images.gr-assets.com/books/1447303603m...   \n",
       "100  https://images.gr-assets.com/books/1474154022m...   \n",
       "200  https://images.gr-assets.com/books/1361039443m...   \n",
       "300  https://images.gr-assets.com/books/1361975680m...   \n",
       "400  https://images.gr-assets.com/books/1490528560m...   \n",
       "\n",
       "                                       small_image_url  goodreads_book_id  \\\n",
       "0    https://images.gr-assets.com/books/1447303603s...            2767052   \n",
       "100  https://images.gr-assets.com/books/1474154022s...                  3   \n",
       "200  https://images.gr-assets.com/books/1361039443s...              41865   \n",
       "300  https://images.gr-assets.com/books/1361975680s...               2657   \n",
       "400  https://images.gr-assets.com/books/1490528560s...               4671   \n",
       "\n",
       "     tag_id   count     tag_name  group    genre  \n",
       "0     11557   50755    favorites      1  romance  \n",
       "100   30574  496107      to read      2   school  \n",
       "200   33114   16446  young adult      8      lit  \n",
       "300    7457   31068     classics      1  romance  \n",
       "400    7457   32061     classics      1  romance  \n",
       "\n",
       "[5 rows x 29 columns]"
      ]
     },
     "execution_count": 79,
     "metadata": {},
     "output_type": "execute_result"
    }
   ],
   "source": [
    "genre = [\"various\", \"romance\", \"school\", \"best books\", \"other books\", \"reading\", \"read\", \"learning\", \"lit\", \"series\", \"novels\", \"summer\", \n",
    "                 \"brown\", \"philosophy\", \"owned\", \"fiction\", \"wish\", \"game\", \"kids\", \"reads\"]\n",
    "genredf = pd.DataFrame(genre)\n",
    "ntags = tags.merge(genredf, how='left', left_on=\"group\", right_on=genredf.index)\n",
    "ntags.rename({0: 'genre'}, axis=1, inplace=True)\n",
    "\n",
    "#Now we join the books with the booktags and then with the tags table to get the genre by book.\n",
    "#we are going to do the plot with the full data (but there are a lot of books in several categories,\n",
    "#and other plot with only the first genre per book\n",
    "\n",
    "books_genre_full = books.merge(book_tags, how='left', left_on=\"book_id\", right_on= \"goodreads_book_id\")\n",
    "books_genre_full = books_genre_full.merge(ntags, how='left', on =\"tag_id\")\n",
    "books_genre_unique = books_genre_full\n",
    "books_genre_unique = books_genre_unique.drop_duplicates(subset=['book_id'])\n",
    "\n",
    "books_genre_unique.head()"
   ]
  },
  {
   "cell_type": "code",
   "execution_count": 83,
   "id": "57e22616-e89a-4f6a-b8e5-568655f99151",
   "metadata": {},
   "outputs": [],
   "source": [
    "#we save our data in a df to plot\n",
    "fplot_df = (books_genre_full[\"genre\"].value_counts()).to_frame()\n",
    "fplot_df.reset_index(inplace=True)"
   ]
  },
  {
   "cell_type": "code",
   "execution_count": 84,
   "id": "ebe8ae26-9dca-416f-8259-46919eafcb1f",
   "metadata": {},
   "outputs": [
    {
     "data": {
      "text/plain": [
       "<BarContainer object of 20 artists>"
      ]
     },
     "execution_count": 84,
     "metadata": {},
     "output_type": "execute_result"
    },
    {
     "data": {
      "image/png": "[encoded data removed]",
      "text/plain": [
       "<Figure size 3000x1600 with 1 Axes>"
      ]
     },
     "metadata": {
      "needs_background": "light"
     },
     "output_type": "display_data"
    }
   ],
   "source": [
    "#Now we call the lybrary and define the parameters to plot the graph\n",
    "#This graph is with the tags repeated, A book can be in several groups\n",
    "import matplotlib.pyplot as plt\n",
    "%matplotlib inline\n",
    "plt.rcParams['figure.figsize'] = [15, 8]\n",
    "plt.rcParams['figure.dpi'] = 200\n",
    "plt.rcParams.update({'font.size': 7})\n",
    "plt.title(\"Count by genre (repeated)*\", fontsize=14, fontweight=0)\n",
    "plt.xlabel(\"Genre\")\n",
    "plt.ylabel(\"Count\")\n",
    "plt.bar(fplot_df[\"index\"], fplot_df[\"genre\"], width = 0.9)"
   ]
  },
  {
   "cell_type": "code",
   "execution_count": 92,
   "id": "df9a35b2-9d7f-4e2d-8a82-4b993402f334",
   "metadata": {},
   "outputs": [],
   "source": [
    "#we save our data in a df to plot, this is the graph with unique values selecting only the first\n",
    "fplot_df = (books_genre_unique[\"genre\"].value_counts()).to_frame()\n",
    "fplot_df.reset_index(inplace=True)"
   ]
  },
  {
   "cell_type": "code",
   "execution_count": 94,
   "id": "e7a81049-25db-45b9-9590-9ffbd2e51d33",
   "metadata": {},
   "outputs": [
    {
     "data": {
      "text/plain": [
       "<BarContainer object of 11 artists>"
      ]
     },
     "execution_count": 94,
     "metadata": {},
     "output_type": "execute_result"
    },
    {
     "data": {
      "image/png": "[encoded data removed]",
      "text/plain": [
       "<Figure size 3000x1600 with 1 Axes>"
      ]
     },
     "metadata": {
      "needs_background": "light"
     },
     "output_type": "display_data"
    }
   ],
   "source": [
    "plt.rcParams['figure.figsize'] = [15, 8]\n",
    "plt.rcParams['figure.dpi'] = 200\n",
    "plt.rcParams.update({'font.size': 7})\n",
    "plt.title(\"Count by genre (Unique values)\", fontsize=14, fontweight=0)\n",
    "plt.xlabel(\"Genre\")\n",
    "plt.ylabel(\"Count\")\n",
    "plt.bar(fplot_df[\"index\"], fplot_df[\"genre\"], width = 0.9, color=\"orange\")"
   ]
  },
  {
   "cell_type": "markdown",
   "id": "c97b2d02-dfbd-4467-92f6-e3ebf69895ce",
   "metadata": {},
   "source": [
    "### Plot the distribution of ratings"
   ]
  },
  {
   "cell_type": "markdown",
   "id": "4155828e-d063-4829-8ff7-46fc42d1af3a",
   "metadata": {},
   "source": [
    "To plot the ratings we will use the genre field that we created, we are going to use the field *average_rating* and genre, our approach is to make an average of the average ratings by genre"
   ]
  },
  {
   "cell_type": "code",
   "execution_count": 103,
   "id": "90b6cb09-4a27-432b-a162-258aab35437e",
   "metadata": {},
   "outputs": [
    {
     "data": {
      "text/html": [
       "<div>\n",
       "<style scoped>\n",
       "    .dataframe tbody tr th:only-of-type {\n",
       "        vertical-align: middle;\n",
       "    }\n",
       "\n",
       "    .dataframe tbody tr th {\n",
       "        vertical-align: top;\n",
       "    }\n",
       "\n",
       "    .dataframe thead th {\n",
       "        text-align: right;\n",
       "    }\n",
       "</style>\n",
       "<table border=\"1\" class=\"dataframe\">\n",
       "  <thead>\n",
       "    <tr style=\"text-align: right;\">\n",
       "      <th></th>\n",
       "      <th>genre</th>\n",
       "      <th>average_rating</th>\n",
       "    </tr>\n",
       "  </thead>\n",
       "  <tbody>\n",
       "    <tr>\n",
       "      <th>0</th>\n",
       "      <td>fiction</td>\n",
       "      <td>4.001194</td>\n",
       "    </tr>\n",
       "    <tr>\n",
       "      <th>1</th>\n",
       "      <td>kids</td>\n",
       "      <td>3.853187</td>\n",
       "    </tr>\n",
       "    <tr>\n",
       "      <th>2</th>\n",
       "      <td>lit</td>\n",
       "      <td>3.958305</td>\n",
       "    </tr>\n",
       "    <tr>\n",
       "      <th>3</th>\n",
       "      <td>novels</td>\n",
       "      <td>3.990000</td>\n",
       "    </tr>\n",
       "    <tr>\n",
       "      <th>4</th>\n",
       "      <td>owned</td>\n",
       "      <td>4.364286</td>\n",
       "    </tr>\n",
       "    <tr>\n",
       "      <th>5</th>\n",
       "      <td>philosophy</td>\n",
       "      <td>4.178750</td>\n",
       "    </tr>\n",
       "    <tr>\n",
       "      <th>6</th>\n",
       "      <td>read</td>\n",
       "      <td>3.947143</td>\n",
       "    </tr>\n",
       "    <tr>\n",
       "      <th>7</th>\n",
       "      <td>romance</td>\n",
       "      <td>4.059782</td>\n",
       "    </tr>\n",
       "    <tr>\n",
       "      <th>8</th>\n",
       "      <td>school</td>\n",
       "      <td>4.002729</td>\n",
       "    </tr>\n",
       "    <tr>\n",
       "      <th>9</th>\n",
       "      <td>summer</td>\n",
       "      <td>3.944894</td>\n",
       "    </tr>\n",
       "    <tr>\n",
       "      <th>10</th>\n",
       "      <td>wish</td>\n",
       "      <td>4.040000</td>\n",
       "    </tr>\n",
       "  </tbody>\n",
       "</table>\n",
       "</div>"
      ],
      "text/plain": [
       "         genre  average_rating\n",
       "0      fiction        4.001194\n",
       "1         kids        3.853187\n",
       "2          lit        3.958305\n",
       "3       novels        3.990000\n",
       "4        owned        4.364286\n",
       "5   philosophy        4.178750\n",
       "6         read        3.947143\n",
       "7      romance        4.059782\n",
       "8       school        4.002729\n",
       "9       summer        3.944894\n",
       "10        wish        4.040000"
      ]
     },
     "execution_count": 103,
     "metadata": {},
     "output_type": "execute_result"
    }
   ],
   "source": [
    "ratings_df = (books_genre_unique\n",
    "              .groupby('genre')['average_rating']\n",
    "              .mean()).to_frame()\n",
    "ratings_df.reset_index(inplace=True)"
   ]
  },
  {
   "cell_type": "code",
   "execution_count": 116,
   "id": "65c6034d-d07f-4573-8d46-dad0ee2f94f6",
   "metadata": {},
   "outputs": [
    {
     "data": {
      "text/plain": [
       "<BarContainer object of 11 artists>"
      ]
     },
     "execution_count": 116,
     "metadata": {},
     "output_type": "execute_result"
    },
    {
     "data": {
      "image/png": "[encoded data removed]",
      "text/plain": [
       "<Figure size 3000x1600 with 1 Axes>"
      ]
     },
     "metadata": {
      "needs_background": "light"
     },
     "output_type": "display_data"
    }
   ],
   "source": [
    "plt.rcParams['figure.figsize'] = [15, 8]\n",
    "plt.rcParams['figure.dpi'] = 200\n",
    "plt.rcParams.update({'font.size': 8})\n",
    "plt.title(\"Average rating by genre\", fontsize=14, fontweight=0)\n",
    "plt.xlabel(\"Genre\")\n",
    "plt.ylabel(\"rating\")\n",
    "plt.ylim(bottom=3.5, top = 4.5)\n",
    "plt.bar(ratings_df[\"genre\"], ratings_df[\"average_rating\"], width = 0.9, color=\"turquoise\")"
   ]
  },
  {
   "cell_type": "markdown",
   "id": "71f77617-d8ac-468f-abff-09a8deb9b571",
   "metadata": {},
   "source": [
    "### Group the dataset by users, calculate the average of rating for each group and plot the average ratings (x-axis: ratings from 1-5, y-axis: count of users with that average rating)"
   ]
  },
  {
   "cell_type": "markdown",
   "id": "2206f74a-06cf-4876-9c62-d1f77ac5d444",
   "metadata": {},
   "source": [
    "The first that we have to do is to take the ratings df and calculate the average of rating per user (user a: 2.3, user b:4.1, ... , user n: 4.2) after that we must make a round to leave values only from 1 to 5 then summarize and plot"
   ]
  },
  {
   "cell_type": "code",
   "execution_count": 132,
   "id": "146bffc9-ee5e-4f90-9979-79315dcbe208",
   "metadata": {},
   "outputs": [],
   "source": [
    "# average rating per user rounded \n",
    "users = (ratings\n",
    "         .groupby('user_id')['rating']\n",
    "         .mean())\n",
    "users = round(users)"
   ]
  },
  {
   "cell_type": "code",
   "execution_count": 133,
   "id": "ab8023ae-f957-451c-89ec-652b532bcf09",
   "metadata": {},
   "outputs": [
    {
     "data": {
      "text/html": [
       "<div>\n",
       "<style scoped>\n",
       "    .dataframe tbody tr th:only-of-type {\n",
       "        vertical-align: middle;\n",
       "    }\n",
       "\n",
       "    .dataframe tbody tr th {\n",
       "        vertical-align: top;\n",
       "    }\n",
       "\n",
       "    .dataframe thead th {\n",
       "        text-align: right;\n",
       "    }\n",
       "</style>\n",
       "<table border=\"1\" class=\"dataframe\">\n",
       "  <thead>\n",
       "    <tr style=\"text-align: right;\">\n",
       "      <th></th>\n",
       "      <th>rating</th>\n",
       "    </tr>\n",
       "  </thead>\n",
       "  <tbody>\n",
       "    <tr>\n",
       "      <th>4.0</th>\n",
       "      <td>33270</td>\n",
       "    </tr>\n",
       "    <tr>\n",
       "      <th>3.0</th>\n",
       "      <td>11272</td>\n",
       "    </tr>\n",
       "    <tr>\n",
       "      <th>5.0</th>\n",
       "      <td>7571</td>\n",
       "    </tr>\n",
       "    <tr>\n",
       "      <th>2.0</th>\n",
       "      <td>1223</td>\n",
       "    </tr>\n",
       "    <tr>\n",
       "      <th>1.0</th>\n",
       "      <td>88</td>\n",
       "    </tr>\n",
       "  </tbody>\n",
       "</table>\n",
       "</div>"
      ],
      "text/plain": [
       "     rating\n",
       "4.0   33270\n",
       "3.0   11272\n",
       "5.0    7571\n",
       "2.0    1223\n",
       "1.0      88"
      ]
     },
     "execution_count": 133,
     "metadata": {},
     "output_type": "execute_result"
    }
   ],
   "source": [
    "#df to be plotted\n",
    "users_df = (users.value_counts()).to_frame()\n",
    "users_df"
   ]
  },
  {
   "cell_type": "code",
   "execution_count": 139,
   "id": "aa956050-2ce1-4b09-b8da-0ad6188afaf6",
   "metadata": {},
   "outputs": [
    {
     "data": {
      "text/plain": [
       "<BarContainer object of 5 artists>"
      ]
     },
     "execution_count": 139,
     "metadata": {},
     "output_type": "execute_result"
    },
    {
     "data": {
      "image/png": "[encoded data removed]",
      "text/plain": [
       "<Figure size 1500x800 with 1 Axes>"
      ]
     },
     "metadata": {
      "needs_background": "light"
     },
     "output_type": "display_data"
    }
   ],
   "source": [
    "plt.rcParams['figure.figsize'] = [15, 8]\n",
    "plt.rcParams['figure.dpi'] = 100\n",
    "plt.rcParams.update({'font.size': 8})\n",
    "plt.title(\"users rating\", fontsize=14, fontweight=0)\n",
    "plt.xlabel(\"rating\")\n",
    "plt.ylabel(\"count of users\")\n",
    "#plt.ylim(bottom=3.5, top = 4.5)\n",
    "plt.bar(users_df.index, users_df[\"rating\"], width = 0.9, color=\"tan\")"
   ]
  },
  {
   "cell_type": "code",
   "execution_count": null,
   "id": "2a1ca6e0-5ffd-40c1-9e8e-1642baa973d6",
   "metadata": {},
   "outputs": [],
   "source": []
  }
 ],
 "metadata": {
  "kernelspec": {
   "display_name": "Python 3 (ipykernel)",
   "language": "python",
   "name": "python3"
  },
  "language_info": {
   "codemirror_mode": {
    "name": "ipython",
    "version": 3
   },
   "file_extension": ".py",
   "mimetype": "text/x-python",
   "name": "python",
   "nbconvert_exporter": "python",
   "pygments_lexer": "ipython3",
   "version": "3.9.7"
  }
 },
 "nbformat": 4,
 "nbformat_minor": 5
}
